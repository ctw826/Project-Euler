{
 "cells": [
  {
   "cell_type": "markdown",
   "metadata": {},
   "source": [
    "The sum of the squares of the first ten natural numbers is,\n",
    "\n",
    "1^2 + 2^2 + ... + 10^2 = 385\n",
    "\n",
    "The square of the sum of the first ten natural numbers is,\n",
    "\n",
    "(1 + 2 + ... + 10)^2 = 55^2 = 3025\n",
    "\n",
    "Hence the difference between the sum of the squares of the first ten natural numbers and the square of the sum is 3025 − 385 = 2640.\n",
    "\n",
    "Find the difference between the sum of the squares of the first one hundred natural numbers and the square of the sum."
   ]
  },
  {
   "cell_type": "markdown",
   "metadata": {},
   "source": [
    "## Useful resource: \n",
    "https://brilliant.org/wiki/sum-of-n-n2-or-n3/#sum-of-the-squares-of-the-first-n-positive-integers\n",
    "\n",
    "Sum of the Squares of the First n Positive Integers = [n(n+1)(2n+1)]/6\n",
    "\n",
    "Sum of the First n Positive Integers = n(n+1)/2"
   ]
  },
  {
   "cell_type": "code",
   "execution_count": 1,
   "metadata": {},
   "outputs": [
    {
     "name": "stdout",
     "output_type": "stream",
     "text": [
      "3025.0\n",
      "385.0\n",
      "2640.0\n"
     ]
    }
   ],
   "source": [
    "n=10\n",
    "sum_of_square = ((n*(n+1)*(2*n+1))/6)  \n",
    "square_of_sum = ((n*(n+1))/2)**2\n",
    "ans = square_of_sum - sum_of_square\n",
    "print(square_of_sum)\n",
    "print(sum_of_square)\n",
    "print(ans)"
   ]
  },
  {
   "cell_type": "code",
   "execution_count": 2,
   "metadata": {},
   "outputs": [
    {
     "name": "stdout",
     "output_type": "stream",
     "text": [
      "25502500.0\n",
      "338350.0\n",
      "25164150.0\n"
     ]
    }
   ],
   "source": [
    "n=100\n",
    "sum_of_square = ((n*(n+1)*(2*n+1))/6)  \n",
    "square_of_sum = ((n*(n+1))/2)**2\n",
    "ans = square_of_sum - sum_of_square\n",
    "print(square_of_sum)\n",
    "print(sum_of_square)\n",
    "print(ans)"
   ]
  },
  {
   "cell_type": "code",
   "execution_count": null,
   "metadata": {},
   "outputs": [],
   "source": []
  }
 ],
 "metadata": {
  "kernelspec": {
   "display_name": "Python 3",
   "language": "python",
   "name": "python3"
  },
  "language_info": {
   "codemirror_mode": {
    "name": "ipython",
    "version": 3
   },
   "file_extension": ".py",
   "mimetype": "text/x-python",
   "name": "python",
   "nbconvert_exporter": "python",
   "pygments_lexer": "ipython3",
   "version": "3.6.5"
  }
 },
 "nbformat": 4,
 "nbformat_minor": 2
}
