{
 "cells": [
  {
   "cell_type": "markdown",
   "metadata": {},
   "source": [
    "The prime factors of 13195 are 5, 7, 13 and 29.\n",
    "\n",
    "What is the largest prime factor of the number 600851475143 ?"
   ]
  },
  {
   "cell_type": "code",
   "execution_count": 1,
   "metadata": {},
   "outputs": [
    {
     "name": "stdout",
     "output_type": "stream",
     "text": [
      "[5, 2639, 7, 1885, 13, 1015, 29, 455, 35, 377, 65, 203, 91, 145]\n"
     ]
    }
   ],
   "source": [
    "factors = []\n",
    "num = 13195\n",
    "a=2\n",
    "b=2\n",
    "while a <= b:\n",
    "    b= num//a\n",
    "    if num%a == 0:\n",
    "        factors.append(a)\n",
    "        factors.append(b)\n",
    "    a += 1\n",
    "\n",
    "print(factors)\n"
   ]
  },
  {
   "cell_type": "code",
   "execution_count": 2,
   "metadata": {},
   "outputs": [],
   "source": [
    "prime_factor =[]\n",
    "for n in factors:\n",
    "    for i in range (2,n):         \n",
    "        if n%i==0:\n",
    "            break\n",
    "    else: # loop not exited via break\n",
    "        prime_factor.append(n)\n",
    "                \n",
    "    "
   ]
  },
  {
   "cell_type": "code",
   "execution_count": 3,
   "metadata": {},
   "outputs": [
    {
     "name": "stdout",
     "output_type": "stream",
     "text": [
      "[5, 7, 13, 29]\n"
     ]
    }
   ],
   "source": [
    "print(prime_factor)"
   ]
  },
  {
   "cell_type": "markdown",
   "metadata": {},
   "source": [
    "# For 600851475143:"
   ]
  },
  {
   "cell_type": "code",
   "execution_count": 4,
   "metadata": {},
   "outputs": [
    {
     "name": "stdout",
     "output_type": "stream",
     "text": [
      "[71, 8462696833, 839, 716151937, 1471, 408464633, 6857, 87625999, 59569, 10086647, 104441, 5753023, 486847, 1234169]\n"
     ]
    }
   ],
   "source": [
    "all_factors = []\n",
    "num = 600851475143\n",
    "a=2\n",
    "b=2\n",
    "while a <= b:\n",
    "    b= num//a\n",
    "    if num%a == 0:\n",
    "        all_factors.append(a)\n",
    "        all_factors.append(b)\n",
    "    a += 1\n",
    "\n",
    "print(all_factors)"
   ]
  },
  {
   "cell_type": "code",
   "execution_count": 5,
   "metadata": {},
   "outputs": [],
   "source": [
    "prime =[]\n",
    "for n in all_factors:\n",
    "    for i in range (2,n):         \n",
    "        if n%i==0:\n",
    "            break\n",
    "    else: # loop not exited via break\n",
    "        prime.append(n)"
   ]
  },
  {
   "cell_type": "code",
   "execution_count": 6,
   "metadata": {},
   "outputs": [
    {
     "name": "stdout",
     "output_type": "stream",
     "text": [
      "[71, 839, 1471, 6857]\n"
     ]
    }
   ],
   "source": [
    "print(prime)"
   ]
  },
  {
   "cell_type": "markdown",
   "metadata": {},
   "source": [
    "Therefore the largest prime factor = 6857"
   ]
  },
  {
   "cell_type": "code",
   "execution_count": null,
   "metadata": {},
   "outputs": [],
   "source": []
  }
 ],
 "metadata": {
  "kernelspec": {
   "display_name": "Python 3",
   "language": "python",
   "name": "python3"
  },
  "language_info": {
   "codemirror_mode": {
    "name": "ipython",
    "version": 3
   },
   "file_extension": ".py",
   "mimetype": "text/x-python",
   "name": "python",
   "nbconvert_exporter": "python",
   "pygments_lexer": "ipython3",
   "version": "3.6.5"
  }
 },
 "nbformat": 4,
 "nbformat_minor": 2
}
