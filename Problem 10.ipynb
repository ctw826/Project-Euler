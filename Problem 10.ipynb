{
 "cells": [
  {
   "cell_type": "markdown",
   "metadata": {},
   "source": [
    "The sum of the primes below 10 is 2 + 3 + 5 + 7 = 17.\n",
    "\n",
    "Find the sum of all the primes below two million."
   ]
  },
  {
   "cell_type": "code",
   "execution_count": 8,
   "metadata": {},
   "outputs": [],
   "source": [
    "#Please see Problem 7 for details about this prime generator\n",
    "\n",
    "import math\n",
    "\n",
    "def allPrimes_v2():\n",
    "    primes = []\n",
    "    k = 2\n",
    "    while True:                  #infinity loop. This is a common feature inside a generator. \n",
    "        isPrime = True\n",
    "        for p in primes:\n",
    "            if p > math.sqrt(k): #we only have to test the integers up to (and including) the square root of the number we are testing for primality\n",
    "                break\n",
    "            if k % p == 0:\n",
    "                isPrime = False\n",
    "                break\n",
    "        if isPrime:\n",
    "            primes += [k]\n",
    "            yield k             #using a generator to save memory\n",
    "        k += 1"
   ]
  },
  {
   "cell_type": "code",
   "execution_count": 12,
   "metadata": {},
   "outputs": [
    {
     "name": "stdout",
     "output_type": "stream",
     "text": [
      "142913828922\n"
     ]
    }
   ],
   "source": [
    "num = 0\n",
    "for f in allPrimes_v2():\n",
    "    if f < 2000000:\n",
    "        num += f\n",
    "    else:\n",
    "        break\n",
    "\n",
    "print(num)"
   ]
  },
  {
   "cell_type": "markdown",
   "metadata": {},
   "source": [
    "A quicker way would be to use the algorithm I found on the internet (details in Problem 7)"
   ]
  },
  {
   "cell_type": "code",
   "execution_count": null,
   "metadata": {},
   "outputs": [],
   "source": []
  }
 ],
 "metadata": {
  "kernelspec": {
   "display_name": "Python 3",
   "language": "python",
   "name": "python3"
  },
  "language_info": {
   "codemirror_mode": {
    "name": "ipython",
    "version": 3
   },
   "file_extension": ".py",
   "mimetype": "text/x-python",
   "name": "python",
   "nbconvert_exporter": "python",
   "pygments_lexer": "ipython3",
   "version": "3.6.5"
  }
 },
 "nbformat": 4,
 "nbformat_minor": 2
}
