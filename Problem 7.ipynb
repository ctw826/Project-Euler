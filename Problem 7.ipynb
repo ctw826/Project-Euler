{
 "cells": [
  {
   "cell_type": "markdown",
   "metadata": {},
   "source": [
    "By listing the first six prime numbers: 2, 3, 5, 7, 11, and 13, we can see that the 6th prime is 13.\n",
    "\n",
    "What is the 10 001st prime number?"
   ]
  },
  {
   "cell_type": "code",
   "execution_count": 1,
   "metadata": {},
   "outputs": [],
   "source": [
    "# A common way to find all prime numbers (available here https://www2.cs.duke.edu/courses/spring17/compsci230/notes/L04Primes.pdf)\n",
    "def allPrimes():\n",
    "    primes = []\n",
    "    k = 2\n",
    "    while True:\n",
    "        isPrime = True\n",
    "        for p in primes:\n",
    "            if k % p == 0:     # We only need to divide the number by prime numbers\n",
    "                isPrime = False\n",
    "                break\n",
    "        if isPrime:\n",
    "            primes += [k]\n",
    "            yield k\n",
    "        k += 1\n"
   ]
  },
  {
   "cell_type": "markdown",
   "metadata": {},
   "source": [
    "The alogorithm above is pretty good but I can improve it by using the fact that we only have to test the integers up to (and including) the square root of the number we are testing for primality. See https://inventwithpython.com/hacking/chapter23.html\n",
    "\n",
    "Below is the improved version:"
   ]
  },
  {
   "cell_type": "code",
   "execution_count": 2,
   "metadata": {},
   "outputs": [],
   "source": [
    "import math\n",
    "\n",
    "def allPrimes_v2():\n",
    "    primes = []\n",
    "    k = 2\n",
    "    while True:                  #infinity loop. This is a common feature inside a generator. \n",
    "        isPrime = True\n",
    "        for p in primes:\n",
    "            if p > math.sqrt(k): #we only have to test the integers up to (and including) the square root of the number we are testing for primality\n",
    "                break\n",
    "            if k % p == 0:\n",
    "                isPrime = False\n",
    "                break\n",
    "        if isPrime:\n",
    "            primes += [k]\n",
    "            yield k             #using a generator to save memory\n",
    "        k += 1"
   ]
  },
  {
   "cell_type": "markdown",
   "metadata": {},
   "source": [
    "# To find the 10,001th prime number:"
   ]
  },
  {
   "cell_type": "code",
   "execution_count": 3,
   "metadata": {},
   "outputs": [
    {
     "name": "stdout",
     "output_type": "stream",
     "text": [
      "104743\n"
     ]
    }
   ],
   "source": [
    "count = 1\n",
    "for f in allPrimes_v2():\n",
    "    if count == 10001:\n",
    "        print (f)\n",
    "        break\n",
    "    count += 1"
   ]
  },
  {
   "cell_type": "markdown",
   "metadata": {
    "collapsed": true
   },
   "source": [
    "# A very good algorithm I found on the internet:"
   ]
  },
  {
   "cell_type": "code",
   "execution_count": 4,
   "metadata": {},
   "outputs": [],
   "source": [
    "#from https://codereview.stackexchange.com/questions/188053/project-euler-problem-7-in-python-10001st-prime-number\n",
    "#This method uses (1) the upper bound of the nth prime number https://math.stackexchange.com/questions/1270814/bounds-for-n-th-prime\n",
    "#             and (2) the Sieve of Eratosthenes\n",
    "\n",
    "from math import log, ceil\n",
    "\n",
    "def find_primes(limit):\n",
    "    nums = [True] * (limit + 1)\n",
    "    nums[0] = nums[1] = False\n",
    "\n",
    "    for (i, is_prime) in enumerate(nums):\n",
    "        if is_prime:\n",
    "            yield i\n",
    "            for n in range(i * i, limit + 1, i):\n",
    "                nums[n] = False\n",
    "\n",
    "def upper_bound_for_p_n(n):\n",
    "    if n < 6:\n",
    "        return 100\n",
    "    return ceil(n * (log(n) + log(log(n))))\n",
    "\n",
    "def find_n_prime(n):\n",
    "    primes = list(find_primes(upper_bound_for_p_n(n)))\n",
    "    return primes[n - 1]"
   ]
  },
  {
   "cell_type": "code",
   "execution_count": 5,
   "metadata": {},
   "outputs": [
    {
     "data": {
      "text/plain": [
       "104743"
      ]
     },
     "execution_count": 5,
     "metadata": {},
     "output_type": "execute_result"
    }
   ],
   "source": [
    "find_n_prime(10001)"
   ]
  },
  {
   "cell_type": "code",
   "execution_count": null,
   "metadata": {},
   "outputs": [],
   "source": []
  }
 ],
 "metadata": {
  "kernelspec": {
   "display_name": "Python 3",
   "language": "python",
   "name": "python3"
  },
  "language_info": {
   "codemirror_mode": {
    "name": "ipython",
    "version": 3
   },
   "file_extension": ".py",
   "mimetype": "text/x-python",
   "name": "python",
   "nbconvert_exporter": "python",
   "pygments_lexer": "ipython3",
   "version": "3.6.5"
  }
 },
 "nbformat": 4,
 "nbformat_minor": 2
}
