{
 "cells": [
  {
   "cell_type": "markdown",
   "metadata": {},
   "source": [
    "2520 is the smallest number that can be divided by each of the numbers from 1 to 10 without any remainder.\n",
    "\n",
    "What is the smallest positive number that is evenly divisible by all of the numbers from 1 to 20?"
   ]
  },
  {
   "cell_type": "code",
   "execution_count": 1,
   "metadata": {},
   "outputs": [
    {
     "name": "stdout",
     "output_type": "stream",
     "text": [
      "2520\n"
     ]
    }
   ],
   "source": [
    "def div():\n",
    "    count = 0\n",
    "    num = 10\n",
    "    while count < 9:     \n",
    "        for i in range (2,11): #starting from 2 because all positive numbers can be devided by 1 anyway\n",
    "            if num % i != 0:\n",
    "                num += 1\n",
    "                count = 0\n",
    "                break\n",
    "            else:\n",
    "                count += 1\n",
    "                if count == 9:\n",
    "                    print(str(num))\n",
    "                    return\n",
    "        \n",
    "div()       "
   ]
  },
  {
   "cell_type": "code",
   "execution_count": 2,
   "metadata": {},
   "outputs": [
    {
     "name": "stdout",
     "output_type": "stream",
     "text": [
      "232792560\n"
     ]
    }
   ],
   "source": [
    "def divisible():\n",
    "    count = 0\n",
    "    num = 20\n",
    "    while count < 19:     \n",
    "        for i in range (2,21): #starting from 2 because all positive numbers can be devided by 1 anyway\n",
    "            if num % i != 0:\n",
    "                num += 1\n",
    "                count = 0\n",
    "                break\n",
    "            else:\n",
    "                count += 1\n",
    "                if count == 19:\n",
    "                    print(str(num))\n",
    "                    return\n",
    "        \n",
    "divisible() "
   ]
  },
  {
   "cell_type": "markdown",
   "metadata": {},
   "source": [
    "# This is a brute force approach. Not efficient."
   ]
  },
  {
   "cell_type": "code",
   "execution_count": null,
   "metadata": {
    "collapsed": true
   },
   "outputs": [],
   "source": []
  }
 ],
 "metadata": {
  "kernelspec": {
   "display_name": "Python 3",
   "language": "python",
   "name": "python3"
  },
  "language_info": {
   "codemirror_mode": {
    "name": "ipython",
    "version": 3
   },
   "file_extension": ".py",
   "mimetype": "text/x-python",
   "name": "python",
   "nbconvert_exporter": "python",
   "pygments_lexer": "ipython3",
   "version": "3.6.3"
  }
 },
 "nbformat": 4,
 "nbformat_minor": 2
}
